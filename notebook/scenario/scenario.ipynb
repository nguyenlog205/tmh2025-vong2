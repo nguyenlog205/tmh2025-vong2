{
 "cells": [
  {
   "cell_type": "markdown",
   "id": "3cf2a05c",
   "metadata": {},
   "source": [
    "# KỊCH BẢN"
   ]
  },
  {
   "cell_type": "markdown",
   "id": "5721d803",
   "metadata": {},
   "source": [
    "## Tong quan chung"
   ]
  },
  {
   "cell_type": "markdown",
   "id": "3075d350",
   "metadata": {},
   "source": [
    "### Chi so do luong kinh te vi mo"
   ]
  },
  {
   "cell_type": "markdown",
   "id": "2d7d74b4",
   "metadata": {},
   "source": [
    "- `us_cpi` (Chỉ số giá tiêu dùng): Thước đo lạm phát, cho thấy sự thay đổi giá cả của một giỏ hàng hóa và dịch vụ.\n",
    "- `us_gdp` (Tổng sản phẩm quốc nội): Đo lường tổng giá trị thị trường của tất cả hàng hóa và dịch vụ được sản xuất trong một quốc gia, là chỉ số quan trọng nhất về tăng trưởng kinh tế.\n",
    "- `us_unemployment` (Tỷ lệ thất nghiệp): Cho thấy sức khỏe của thị trường lao động.\n",
    "- `us_debt` (Nợ công): Phản ánh tình hình tài chính và ngân sách của chính phủ."
   ]
  },
  {
   "cell_type": "markdown",
   "id": "8790907a",
   "metadata": {},
   "source": [
    "### Chi so mo phong Credit Suisse"
   ]
  },
  {
   "cell_type": "markdown",
   "id": "d9fac9fa",
   "metadata": {},
   "source": [
    "- `cds_cs_5y` - Hợp đồng hoán đổi rủi ro tín dụng 5 năm của Credit Suisse (5-year Credit Default Swap)."
   ]
  },
  {
   "cell_type": "markdown",
   "id": "72c7f72a",
   "metadata": {},
   "source": [
    "## Kịch bản 01: Thị trường vĩ mô và Credit Suisse bình thường"
   ]
  },
  {
   "cell_type": "markdown",
   "id": "b6aff893",
   "metadata": {},
   "source": []
  },
  {
   "cell_type": "markdown",
   "id": "9f841a5f",
   "metadata": {},
   "source": [
    "## Kịch bản 02: Thị trường vĩ mô bình thường và Credit Suisse gặp rủi ro"
   ]
  },
  {
   "cell_type": "markdown",
   "id": "6ff03e15",
   "metadata": {},
   "source": []
  },
  {
   "cell_type": "markdown",
   "id": "8c68aabd",
   "metadata": {},
   "source": [
    "## Kịch bản 03: Thị trường vĩ mô và Credit Suisse đều gặp khủng hoảng"
   ]
  },
  {
   "cell_type": "markdown",
   "id": "114c7860",
   "metadata": {},
   "source": []
  }
 ],
 "metadata": {
  "kernelspec": {
   "display_name": "venv",
   "language": "python",
   "name": "python3"
  },
  "language_info": {
   "name": "python",
   "version": "3.10.11"
  }
 },
 "nbformat": 4,
 "nbformat_minor": 5
}
