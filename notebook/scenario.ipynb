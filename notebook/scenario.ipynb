{
 "cells": [
  {
   "cell_type": "markdown",
   "id": "3cf2a05c",
   "metadata": {},
   "source": [
    "# KỊCH BẢN"
   ]
  },
  {
   "cell_type": "markdown",
   "id": "72c7f72a",
   "metadata": {},
   "source": [
    "## Kịch bản 01: Thị trường vĩ mô và Credit Suisse bình thường"
   ]
  },
  {
   "cell_type": "markdown",
   "id": "b6aff893",
   "metadata": {},
   "source": []
  },
  {
   "cell_type": "markdown",
   "id": "9f841a5f",
   "metadata": {},
   "source": [
    "## Kịch bản 02: Thị trường vĩ mô bình thường và Credit Suisse gặp rủi ro"
   ]
  },
  {
   "cell_type": "markdown",
   "id": "6ff03e15",
   "metadata": {},
   "source": []
  },
  {
   "cell_type": "markdown",
   "id": "8c68aabd",
   "metadata": {},
   "source": [
    "## Kịch bản 03: Thị trường vĩ mô và Credit Suisse đều gặp khủng hoảng"
   ]
  },
  {
   "cell_type": "markdown",
   "id": "114c7860",
   "metadata": {},
   "source": []
  }
 ],
 "metadata": {
  "language_info": {
   "name": "python"
  }
 },
 "nbformat": 4,
 "nbformat_minor": 5
}
