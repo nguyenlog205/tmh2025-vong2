{
 "cells": [
  {
   "cell_type": "markdown",
   "id": "ab710405",
   "metadata": {},
   "source": [
    "# PHÂN TÍCH MÔ HÌNH CROSS-GARCH"
   ]
  }
 ],
 "metadata": {
  "language_info": {
   "name": "python"
  }
 },
 "nbformat": 4,
 "nbformat_minor": 5
}
