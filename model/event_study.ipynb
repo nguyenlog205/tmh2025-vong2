{
 "cells": [
  {
   "cell_type": "markdown",
   "id": "60117074",
   "metadata": {},
   "source": [
    "**Đánh giá ảnh hưởng của sự kiện Credit Suisse tại Việt Nam**\n",
    "\n",
    "*Liệu sự kiện Credit Suisse tại Thụy Sỹ có tác động tiêu cực tới thị trường Việt Nam hay không?*\n",
    "\n",
    "Hướng tiếp cận: Nghiên cứu Sự kiện để Đánh giá Tác động Tức thời\n",
    "\n",
    "Phương pháp này sẽ tập trung vào chỉ số VNIndex để xem liệu có \"lợi nhuận bất thường\" (abnormal returns) trong những ngày diễn ra các sự kiện quan trọng của Credit Suisse hay không."
   ]
  },
  {
   "cell_type": "code",
   "execution_count": null,
   "id": "365e67ec",
   "metadata": {},
   "outputs": [],
   "source": [
    "import pandas as pd\n",
    "import numpy as np\n",
    "import statsmodels.api as sm\n",
    "from statsmodels.tsa.api import VAR\n",
    "from statsmodels.tsa.stattools import adfuller"
   ]
  },
  {
   "cell_type": "markdown",
   "id": "ffb0c657",
   "metadata": {},
   "source": [
    "**Bước 1: Xác định các Sự kiện Chính (Key Events):** \n",
    "\n",
    "- Sự kiện 1 (Greensill): Credit Suisse đóng băng các quỹ (01/03/2021). \n",
    "\n",
    "- Sự kiện 2 (Archegos): Credit Suisse công bố khoản lỗ (06/04/2021).\n",
    "\n",
    "- Sự kiện 3 (UBS tiếp quản): Công bố vào Chủ Nhật, 19/03/2023. Ngày thị trường phản ứng sẽ là Thứ Hai, 20/03/2023, đây là t=0."
   ]
  },
  {
   "cell_type": "code",
   "execution_count": null,
   "id": "9b4fb35e",
   "metadata": {},
   "outputs": [],
   "source": []
  }
 ],
 "metadata": {
  "language_info": {
   "name": "python"
  }
 },
 "nbformat": 4,
 "nbformat_minor": 5
}
