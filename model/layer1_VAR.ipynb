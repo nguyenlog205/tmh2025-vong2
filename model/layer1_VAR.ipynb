{
 "cells": [
  {
   "cell_type": "markdown",
   "id": "56a5ebbd",
   "metadata": {},
   "source": [
    "<div style=\"background: linear-gradient(145deg, #0a0b12, #182531); color: #c4f3fe; padding: 35px; text-align: center; border-radius: 12px; border: 2px solid #2a527c; box-shadow: 0 0 20px rgba(0, 192, 255, 0.2);\">\n",
    "  <h1 style=\"font-family: 'Consolas', 'Courier New', monospace; font-size: 2.8em; text-transform: uppercase; margin: 0; text-shadow: 0 0 10px #00c0ff, 0 0 20px #00c0ff;\">\n",
    "    Lớp 01 - Credit Risk\n",
    "  </h1>\n",
    "  <div style=\"width: 60px; height: 3px; background-color: #00c0ff; margin: 10px auto 15px; box-shadow: 0 0 8px #00c0ff;\"></div>\n",
    "  <p style=\"font-family: 'Segoe UI', sans-serif; font-size: 1.2em; letter-spacing: 1px; margin: 0; opacity: 0.9;\">\n",
    "    Phân tích và Dự báo CDS của Credit Suisse\n",
    "  </p>\n",
    "</div>"
   ]
  },
  {
   "cell_type": "markdown",
   "id": "d826ccb9",
   "metadata": {},
   "source": [
    "<div style=\"margin: 25px 0 10px;\">\n",
    "  <h3 style=\"font-family: 'Segoe UI', Arial, sans-serif; font-weight: 500; font-size: 1.5em; color: #5a7d9a; margin: 0;\">\n",
    "    1. Cơ sở lý thuyết\n",
    "  </h3>\n",
    "</div>"
   ]
  },
  {
   "cell_type": "markdown",
   "id": "e1b67b45",
   "metadata": {},
   "source": [
    "<div style=\"margin: 25px 0 10px;\">\n",
    "  <h2 style=\"font-family: 'Segoe UI', Arial, sans-serif; font-weight: 500; font-size: 1.5em; color: #5a7d9a; margin: 0;\">\n",
    "    2. Xây dựng mô hình\n",
    "  </h2>\n",
    "</div>"
   ]
  },
  {
   "cell_type": "markdown",
   "id": "052d2952",
   "metadata": {},
   "source": [
    "<div style=\"margin: 25px 0 10px;\">\n",
    "  <h3 style=\"font-family: 'Segoe UI', Arial, sans-serif; font-weight: 500; font-size: 1.5em; color: #5a7d9a; margin: 0;\">\n",
    "    2.1. Mô hình VAR tổng quát\n",
    "  </h3>\n",
    "</div>"
   ]
  },
  {
   "cell_type": "markdown",
   "id": "b44aa2f0",
   "metadata": {},
   "source": [
    "Dạng tổng quát của mô hình VAR(p) được thể hiện bằng phương trình ma trận sau:\n",
    "$$Y_t = c + \\Phi_1 Y_{t-1} + \\Phi_2 Y_{t-2} + \\dots + \\Phi_p Y_{t-p} + \\epsilon_t$$\n",
    "Trong đó:\n",
    "    <li>$Y_t$ là một vector chứa các biến của mô hình tại thời điểm $t$ (bao gồm CDS 5Y, VIX, Độ dốc đường cong lợi suất, Biến động giá cổ phiếu, Chỉ số cảm xúc NLP).</li>\n",
    "    <li>$p$ là bậc của độ trễ.</li>\n",
    "    <li>Các ma trận hệ số $\\Phi_i$ và vector sai số $\\epsilon_t$ sẽ được ước lượng dựa trên dữ liệu.</li>\n",
    "    Một giả định quan trọng của mô hình VAR cơ bản là tất cả các chuỗi thời gian phải <b>dừng (stationary)</b> để đảm bảo kết quả hồi quy không bị giả tạo và các hàm phản ứng xung không \"bùng nổ\" (explode)."
   ]
  },
  {
   "cell_type": "markdown",
   "id": "ddacf0f7",
   "metadata": {},
   "source": [
    "<div style=\"margin: 25px 0 10px;\">\n",
    "  <h3 style=\"font-family: 'Segoe UI', Arial, sans-serif; font-weight: 500; font-size: 1.5em; color: #5a7d9a; margin: 0;\">\n",
    "    2.2. Các biến số giải thích\n",
    "  </h3>\n",
    "</div>"
   ]
  },
  {
   "cell_type": "markdown",
   "id": "6ee8175d",
   "metadata": {},
   "source": [
    "Nghiên cứu này bao gồm một tập hợp các biến số kinh tế vĩ mô và đặc thù doanh nghiệp nhằm nắm bắt các động lực đa dạng của rủi ro tín dụng:\n",
    "- **Chỉ số VIX**: Được biết đến là \"chỉ số nỗi sợ hãi\", VIX đo lường sự biến động kỳ vọng của thị trường chứng khoán Hoa Kỳ (S&P 500) trong 30 ngày tới. Mức tăng của VIX phản ánh sự bất ổn và lo ngại chung trên thị trường tài chính toàn cầu. Khi VIX tăng, tâm lý thị trường xấu đi và rủi ro tín dụng của các tổ chức tài chính thường tăng theo.\n",
    "- **Độ dốc Đường cong Lợi suất**: Biến này được tính bằng chênh lệch giữa lợi suất trái phiếu chính phủ kỳ hạn dài (ví dụ: 10 năm) và ngắn hạn (ví dụ: 2 năm). Một đường cong lợi suất phẳng hoặc đảo ngược (lợi suất ngắn hạn cao hơn dài hạn) thường được coi là một tín hiệu kinh tế báo trước suy thoái, một môi trường mà rủi ro vỡ nợ của các doanh nghiệp thường gia tăng.\n",
    "- **Biến động giá cổ phiếu Credit Suisse**: Biến động giá cổ phiếu của một công ty phản ánh sự không chắc chắn về tương lai của công ty đó. Biến động cao cho thấy một mức độ rủi ro cao hơn và thường đi kèm với các dấu hiệu suy giảm sức khỏe tài chính.\n",
    "- **Chỉ số cảm xúc thị trường (Sentiment NLP)**: Đây là một thước đo định lượng tâm lý thị trường đối với Credit Suisse, được xây dựng từ các thuật toán xử lý ngôn ngữ tự nhiên (NLP) trên các nguồn tin tức và báo cáo tài chính. Cảm xúc tiêu cực từ truyền thông có thể trực tiếp làm xói mòn lòng tin của nhà đầu tư và khách hàng, tạo ra áp lực lên giá cổ phiếu và tăng rủi ro tín dụng. Thấp nhất là -5 (rất tiêu cực), bằng 0 là trung tính, bằng 5 là rất tích cực."
   ]
  },
  {
   "cell_type": "markdown",
   "id": "811361fe",
   "metadata": {},
   "source": [
    "### 2.3. "
   ]
  }
 ],
 "metadata": {
  "language_info": {
   "name": "python"
  }
 },
 "nbformat": 4,
 "nbformat_minor": 5
}
